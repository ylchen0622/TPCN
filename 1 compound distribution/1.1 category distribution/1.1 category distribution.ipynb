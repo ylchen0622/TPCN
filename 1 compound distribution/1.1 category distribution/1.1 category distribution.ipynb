{
 "cells": [
  {
   "cell_type": "code",
   "execution_count": 1,
   "metadata": {},
   "outputs": [],
   "source": [
    "import pandas as pd\n",
    "import matplotlib.pyplot as plt\n",
    "import seaborn as sns\n",
    "import numpy as np\n",
    "import matplotlib as mpl"
   ]
  },
  {
   "cell_type": "code",
   "execution_count": 2,
   "metadata": {
    "scrolled": true
   },
   "outputs": [],
   "source": [
    "df=pd.read_csv('../../0 data preparation/All.csv')"
   ]
  },
  {
   "cell_type": "markdown",
   "metadata": {},
   "source": [
    "### Category distribution of terpenoids"
   ]
  },
  {
   "cell_type": "code",
   "execution_count": 3,
   "metadata": {},
   "outputs": [
    {
     "data": {
      "text/html": [
       "<div>\n",
       "<style scoped>\n",
       "    .dataframe tbody tr th:only-of-type {\n",
       "        vertical-align: middle;\n",
       "    }\n",
       "\n",
       "    .dataframe tbody tr th {\n",
       "        vertical-align: top;\n",
       "    }\n",
       "\n",
       "    .dataframe thead th {\n",
       "        text-align: right;\n",
       "    }\n",
       "</style>\n",
       "<table border=\"1\" class=\"dataframe\">\n",
       "  <thead>\n",
       "    <tr style=\"text-align: right;\">\n",
       "      <th></th>\n",
       "      <th>ID</th>\n",
       "      <th>Type</th>\n",
       "    </tr>\n",
       "  </thead>\n",
       "  <tbody>\n",
       "    <tr>\n",
       "      <th>0</th>\n",
       "      <td>TPCN02029</td>\n",
       "      <td>Diterpenoids</td>\n",
       "    </tr>\n",
       "    <tr>\n",
       "      <th>1</th>\n",
       "      <td>TPCN02063</td>\n",
       "      <td>Diterpenoids</td>\n",
       "    </tr>\n",
       "    <tr>\n",
       "      <th>2</th>\n",
       "      <td>TPCN02186</td>\n",
       "      <td>Diterpenoids</td>\n",
       "    </tr>\n",
       "    <tr>\n",
       "      <th>3</th>\n",
       "      <td>TPCN02187</td>\n",
       "      <td>Diterpenoids</td>\n",
       "    </tr>\n",
       "    <tr>\n",
       "      <th>4</th>\n",
       "      <td>TPCN02188</td>\n",
       "      <td>Diterpenoids</td>\n",
       "    </tr>\n",
       "    <tr>\n",
       "      <th>...</th>\n",
       "      <td>...</td>\n",
       "      <td>...</td>\n",
       "    </tr>\n",
       "    <tr>\n",
       "      <th>6378</th>\n",
       "      <td>TPCN06379</td>\n",
       "      <td>Triterpenoids</td>\n",
       "    </tr>\n",
       "    <tr>\n",
       "      <th>6379</th>\n",
       "      <td>TPCN06380</td>\n",
       "      <td>Triterpenoids</td>\n",
       "    </tr>\n",
       "    <tr>\n",
       "      <th>6380</th>\n",
       "      <td>TPCN06381</td>\n",
       "      <td>Triterpenoids</td>\n",
       "    </tr>\n",
       "    <tr>\n",
       "      <th>6381</th>\n",
       "      <td>TPCN06382</td>\n",
       "      <td>Triterpenoids</td>\n",
       "    </tr>\n",
       "    <tr>\n",
       "      <th>6382</th>\n",
       "      <td>TPCN06383</td>\n",
       "      <td>Triterpenoids</td>\n",
       "    </tr>\n",
       "  </tbody>\n",
       "</table>\n",
       "<p>6383 rows × 2 columns</p>\n",
       "</div>"
      ],
      "text/plain": [
       "             ID           Type\n",
       "0     TPCN02029   Diterpenoids\n",
       "1     TPCN02063   Diterpenoids\n",
       "2     TPCN02186   Diterpenoids\n",
       "3     TPCN02187   Diterpenoids\n",
       "4     TPCN02188   Diterpenoids\n",
       "...         ...            ...\n",
       "6378  TPCN06379  Triterpenoids\n",
       "6379  TPCN06380  Triterpenoids\n",
       "6380  TPCN06381  Triterpenoids\n",
       "6381  TPCN06382  Triterpenoids\n",
       "6382  TPCN06383  Triterpenoids\n",
       "\n",
       "[6383 rows x 2 columns]"
      ]
     },
     "execution_count": 3,
     "metadata": {},
     "output_type": "execute_result"
    }
   ],
   "source": [
    "df_type=pd.read_csv('../../0 data preparation/All.csv',usecols=['ID','Type'])\n",
    "df_type=df_type.drop_duplicates(subset='ID')\n",
    "df_type.reset_index(drop=True,inplace=True)\n",
    "df_type"
   ]
  },
  {
   "cell_type": "code",
   "execution_count": 4,
   "metadata": {},
   "outputs": [
    {
     "data": {
      "text/html": [
       "<div>\n",
       "<style scoped>\n",
       "    .dataframe tbody tr th:only-of-type {\n",
       "        vertical-align: middle;\n",
       "    }\n",
       "\n",
       "    .dataframe tbody tr th {\n",
       "        vertical-align: top;\n",
       "    }\n",
       "\n",
       "    .dataframe thead th {\n",
       "        text-align: right;\n",
       "    }\n",
       "</style>\n",
       "<table border=\"1\" class=\"dataframe\">\n",
       "  <thead>\n",
       "    <tr style=\"text-align: right;\">\n",
       "      <th></th>\n",
       "      <th>Category</th>\n",
       "      <th>Counts</th>\n",
       "      <th>Percentages(%)</th>\n",
       "      <th>Content(%)</th>\n",
       "    </tr>\n",
       "  </thead>\n",
       "  <tbody>\n",
       "    <tr>\n",
       "      <th>0</th>\n",
       "      <td>Monoterpenoids</td>\n",
       "      <td>830</td>\n",
       "      <td>13.00</td>\n",
       "      <td>1e-06~0.461538</td>\n",
       "    </tr>\n",
       "    <tr>\n",
       "      <th>1</th>\n",
       "      <td>Sesquiterpenoids</td>\n",
       "      <td>1346</td>\n",
       "      <td>21.09</td>\n",
       "      <td>1e-06~1.0</td>\n",
       "    </tr>\n",
       "    <tr>\n",
       "      <th>2</th>\n",
       "      <td>Diterpenoids</td>\n",
       "      <td>1351</td>\n",
       "      <td>21.17</td>\n",
       "      <td>2e-06~2.522321</td>\n",
       "    </tr>\n",
       "    <tr>\n",
       "      <th>3</th>\n",
       "      <td>Triterpenoids</td>\n",
       "      <td>2856</td>\n",
       "      <td>44.74</td>\n",
       "      <td>3e-06~3.744898</td>\n",
       "    </tr>\n",
       "  </tbody>\n",
       "</table>\n",
       "</div>"
      ],
      "text/plain": [
       "           Category  Counts  Percentages(%)      Content(%)\n",
       "0    Monoterpenoids     830           13.00  1e-06~0.461538\n",
       "1  Sesquiterpenoids    1346           21.09       1e-06~1.0\n",
       "2      Diterpenoids    1351           21.17  2e-06~2.522321\n",
       "3     Triterpenoids    2856           44.74  3e-06~3.744898"
      ]
     },
     "execution_count": 4,
     "metadata": {},
     "output_type": "execute_result"
    }
   ],
   "source": [
    "type_list=['Monoterpenoids','Sesquiterpenoids','Diterpenoids','Triterpenoids']\n",
    "data=[]\n",
    "for i in type_list:\n",
    "    compounds=df[df['Type']==i]\n",
    "    compounds_unique=compounds.drop_duplicates(subset='ID')\n",
    "    percentages=round(len(compounds_unique)/len(df.drop_duplicates(subset='ID'))*100,2)\n",
    "    min_content=min(compounds['Content(%)'])\n",
    "    max_content=max(compounds['Content(%)'])\n",
    "    data.append((i,len(compounds_unique),percentages,str(min_content)+'~'+str(max_content)))\n",
    "data=pd.DataFrame(data,columns=['Category','Counts','Percentages(%)','Content(%)'])\n",
    "data"
   ]
  },
  {
   "cell_type": "markdown",
   "metadata": {},
   "source": [
    "### Compound quantity and content range"
   ]
  },
  {
   "cell_type": "code",
   "execution_count": 5,
   "metadata": {},
   "outputs": [
    {
     "name": "stdout",
     "output_type": "stream",
     "text": [
      "All: 6383\n",
      "Content(%): 1e-06~3.744898\n"
     ]
    }
   ],
   "source": [
    "print('All: '+str(len(df.drop_duplicates(subset='ID'))))\n",
    "print('Content(%): '+str(min(df['Content(%)']))+'~'+str(max(df['Content(%)'])))"
   ]
  },
  {
   "cell_type": "code",
   "execution_count": null,
   "metadata": {},
   "outputs": [],
   "source": []
  }
 ],
 "metadata": {
  "kernelspec": {
   "display_name": "Python 3",
   "language": "python",
   "name": "python3"
  },
  "language_info": {
   "codemirror_mode": {
    "name": "ipython",
    "version": 3
   },
   "file_extension": ".py",
   "mimetype": "text/x-python",
   "name": "python",
   "nbconvert_exporter": "python",
   "pygments_lexer": "ipython3",
   "version": "3.7.0"
  }
 },
 "nbformat": 4,
 "nbformat_minor": 2
}

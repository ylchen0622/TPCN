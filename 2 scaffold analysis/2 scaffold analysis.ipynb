{
 "cells": [
  {
   "cell_type": "code",
   "execution_count": 1,
   "metadata": {},
   "outputs": [],
   "source": [
    "import pandas as pd\n",
    "from rdkit import Chem\n",
    "from rdkit.Chem import Draw\n",
    "from rdkit.Chem.Scaffolds import MurckoScaffold\n",
    "from rdkit.Chem import AllChem as ch\n",
    "from rdkit.Chem import Draw as d\n",
    "import pandas as pd\n",
    "from rdkit import DataStructs\n",
    "import collections\n",
    "from rdkit.Chem.MolStandardize import rdMolStandardize\n",
    "import warnings\n",
    "warnings.filterwarnings(\"ignore\")"
   ]
  },
  {
   "cell_type": "code",
   "execution_count": 2,
   "metadata": {
    "scrolled": true
   },
   "outputs": [],
   "source": [
    "df=pd.read_csv('../0 data preparation/All.csv')"
   ]
  },
  {
   "cell_type": "code",
   "execution_count": 3,
   "metadata": {},
   "outputs": [],
   "source": [
    "def Murcko_Skeleton(df,filename):\n",
    "    # largest molecular fragment\n",
    "    Standard_Smiles=df.Standard_Smiles.values\n",
    "    mols=[]\n",
    "    for i in Standard_Smiles:\n",
    "        mol=Chem.MolFromSmiles(i)\n",
    "        mol_frags = Chem.rdmolops.GetMolFrags(mol, asMols = True)\n",
    "        largest_mol = max(mol_frags, default=mol, key=lambda m: m.GetNumAtoms())\n",
    "        mols.append(largest_mol)\n",
    "    # Atomic scaffold of all molecules in the database\n",
    "    database_atomic_scaffolds = [MurckoScaffold.GetScaffoldForMol(mol) for mol in mols]\n",
    "    for i in database_atomic_scaffolds:\n",
    "        i.Compute2DCoords()\n",
    "    # graph scaffold of all molecules in the database\n",
    "    def genericize_scaffold(s):\n",
    "        try:\n",
    "            return MurckoScaffold.MakeScaffoldGeneric(s)\n",
    "        except ValueError:\n",
    "            return None\n",
    "    database_grafh_scaffolds = [genericize_scaffold(s) for s in database_atomic_scaffolds]\n",
    "    \n",
    "    scaffold_smiles = [Chem.MolToSmiles(scaffold) for scaffold in database_atomic_scaffolds if scaffold != None]\n",
    "    df['Scaffold_Smiles']=scaffold_smiles\n",
    "    df.to_csv(filename+'_Scaffold.csv',index=False)\n",
    "    # dominant scaffold\n",
    "    counter=collections.Counter(scaffold_smiles)\n",
    "    # save file\n",
    "    columns = ['Smiles','Num']\n",
    "    results = pd.DataFrame(counter.items(),columns=columns)\n",
    "    results = results.sort_values(by=['Num'],ascending=False)\n",
    "    results.reset_index(drop=True,inplace=True)\n",
    "    results.to_csv(filename+'_Murcko.csv',index=False)"
   ]
  },
  {
   "cell_type": "markdown",
   "metadata": {},
   "source": [
    "### The murcko scaffold of terpenoids in each content range"
   ]
  },
  {
   "cell_type": "code",
   "execution_count": 4,
   "metadata": {
    "scrolled": true
   },
   "outputs": [],
   "source": [
    "content_list=[0.000001,0.00001,0.0001,0.001,0.01,0.1,1,10]\n",
    "Content_Counts=[]\n",
    "for i in range(len(content_list)):\n",
    "    if i<=6:\n",
    "        left=content_list[i]\n",
    "        right=content_list[i+1]\n",
    "        compound=df[(df['Content(%)']>=left)&(df['Content(%)']<right)]\n",
    "        compound_dropduplicates=compound.drop_duplicates(subset='ID')\n",
    "        compound_dropduplicates.to_csv(str(i+1)+'.csv',index=False)\n",
    "        Murcko_Skeleton(compound_dropduplicates,str(i+1))"
   ]
  }
 ],
 "metadata": {
  "kernelspec": {
   "display_name": "Python 3",
   "language": "python",
   "name": "python3"
  },
  "language_info": {
   "codemirror_mode": {
    "name": "ipython",
    "version": 3
   },
   "file_extension": ".py",
   "mimetype": "text/x-python",
   "name": "python",
   "nbconvert_exporter": "python",
   "pygments_lexer": "ipython3",
   "version": "3.7.0"
  }
 },
 "nbformat": 4,
 "nbformat_minor": 2
}
